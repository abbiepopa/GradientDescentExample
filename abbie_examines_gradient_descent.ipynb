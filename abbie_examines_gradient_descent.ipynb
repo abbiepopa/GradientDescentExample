{
 "cells": [
  {
   "cell_type": "code",
   "execution_count": 1,
   "metadata": {
    "collapsed": false
   },
   "outputs": [
    {
     "name": "stdout",
     "output_type": "stream",
     "text": [
      "Starting gradient descent at b = 0, m = 0, error = 5565.10783448\n",
      "Running...\n",
      "b_gradient is -145.470101107, m_gradient is -7370.70297359\n",
      "Currently b = 0.0145470101107, m = 0.737070297359, error = 1484.58655741\n",
      "b_gradient is -73.2695284886, m_gradient is -3697.25156992\n",
      "Currently b = 0.0218739629596, m = 1.10679545435, error = 457.854257574\n",
      "b_gradient is -37.052613617, m_gradient is -1854.59210562\n",
      "Currently b = 0.0255792243213, m = 1.29225466491, error = 199.509985726\n",
      "b_gradient is -18.8856523785, m_gradient is -930.285907381\n",
      "Currently b = 0.0274677895591, m = 1.38528325565, error = 134.505910582\n",
      "b_gradient is -9.77282422595, m_gradient is -466.639767331\n",
      "Currently b = 0.0284450719817, m = 1.43194723238, error = 118.149693422\n",
      "b_gradient is -5.2016878474, m_gradient is -234.067765137\n",
      "Currently b = 0.0289652407665, m = 1.4553540089, error = 114.03414906\n",
      "b_gradient is -2.90873359568, m_gradient is -117.406088221\n",
      "Currently b = 0.029256114126, m = 1.46709461772, error = 112.998577317\n",
      "b_gradient is -1.7585503776, m_gradient is -58.8868050424\n",
      "Currently b = 0.0294319691638, m = 1.47298329822, error = 112.737981876\n",
      "b_gradient is -1.18159860576, m_gradient is -29.5326367185\n",
      "Currently b = 0.0295501290244, m = 1.4759365619, error = 112.672384359\n",
      "b_gradient is -0.892188503493, m_gradient is -14.8081365215\n",
      "Currently b = 0.0296393478747, m = 1.47741737555, error = 112.655851815\n",
      "After 10 iterations b = 0.0296393478747, m = 1.47741737555, error = 112.655851815\n"
     ]
    }
   ],
   "source": [
    "from numpy import *\n",
    "\n",
    "# y = mx + b\n",
    "# m is slope, b is y-intercept\n",
    "def compute_error_for_line_given_points(b, m, points):\n",
    "    totalError = 0\n",
    "    for i in range(0, len(points)):\n",
    "        x = points[i, 0]\n",
    "        y = points[i, 1]\n",
    "        totalError += (y - (m * x + b)) ** 2\n",
    "    return totalError / float(len(points))\n",
    "\n",
    "def step_gradient(b_current, m_current, points, learningRate):\n",
    "    b_gradient = 0\n",
    "    m_gradient = 0\n",
    "    N = float(len(points))\n",
    "    for i in range(0, len(points)):\n",
    "        x = points[i, 0]\n",
    "        y = points[i, 1]\n",
    "        b_gradient += -(2/N) * (y - ((m_current * x) + b_current))\n",
    "        m_gradient += -(2/N) * x * (y - ((m_current * x) + b_current))\n",
    "    new_b = b_current - (learningRate * b_gradient)\n",
    "    new_m = m_current - (learningRate * m_gradient)\n",
    "    print \"b_gradient is {0}, m_gradient is {1}\".format(b_gradient, m_gradient)\n",
    "    return [new_b, new_m]\n",
    "\n",
    "def gradient_descent_runner(points, starting_b, starting_m, learning_rate, num_iterations):\n",
    "    b = starting_b\n",
    "    m = starting_m\n",
    "    for i in range(num_iterations):\n",
    "        b, m = step_gradient(b, m, array(points), learning_rate)\n",
    "        print \"Currently b = {1}, m = {2}, error = {3}\".format(num_iterations, b, m, compute_error_for_line_given_points(b, m, points))\n",
    "    return [b, m]\n",
    "\n",
    "def run():\n",
    "    points = genfromtxt(\"data.csv\", delimiter=\",\")\n",
    "    learning_rate = 0.0001\n",
    "    initial_b = 0 # initial y-intercept guess\n",
    "    initial_m = 0 # initial slope guess\n",
    "    num_iterations = 10\n",
    "    print \"Starting gradient descent at b = {0}, m = {1}, error = {2}\".format(initial_b, initial_m, compute_error_for_line_given_points(initial_b, initial_m, points))\n",
    "    print \"Running...\"\n",
    "    [b, m] = gradient_descent_runner(points, initial_b, initial_m, learning_rate, num_iterations)\n",
    "    print \"After {0} iterations b = {1}, m = {2}, error = {3}\".format(num_iterations, b, m, compute_error_for_line_given_points(b, m, points))\n",
    "\n",
    "if __name__ == '__main__':\n",
    "    run()\n"
   ]
  },
  {
   "cell_type": "code",
   "execution_count": 2,
   "metadata": {
    "collapsed": true
   },
   "outputs": [],
   "source": [
    "#so at each point you have an error, and an error gradient (in which direction you would have to move and by how much)\n",
    "#when you sum the gradient at each point you get how far each of your parameters have to move and in which direction\n",
    "#but, when I say \"how far\" and \"how much\" that doesn't mean I know exactly where the parameters will end up\n",
    "#rather, it's that I know how steep the slope is there so I know they need to move \"a lot\" or \"a little\"\n",
    "#how far we adjust the parameters and in which direction is influenced by the gradient (just described) and\n",
    "#the learning rate "
   ]
  }
 ],
 "metadata": {
  "kernelspec": {
   "display_name": "Python 2",
   "language": "python",
   "name": "python2"
  },
  "language_info": {
   "codemirror_mode": {
    "name": "ipython",
    "version": 2
   },
   "file_extension": ".py",
   "mimetype": "text/x-python",
   "name": "python",
   "nbconvert_exporter": "python",
   "pygments_lexer": "ipython2",
   "version": "2.7.12"
  }
 },
 "nbformat": 4,
 "nbformat_minor": 1
}
